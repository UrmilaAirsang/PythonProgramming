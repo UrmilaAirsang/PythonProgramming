{
  "nbformat": 4,
  "nbformat_minor": 0,
  "metadata": {
    "colab": {
      "name": "01_SimplePythonPrograms.ipynb",
      "provenance": [],
      "collapsed_sections": [],
      "authorship_tag": "ABX9TyMazwq4nDI9bo+KpwMgU7p0",
      "include_colab_link": true
    },
    "kernelspec": {
      "name": "python3",
      "display_name": "Python 3"
    }
  },
  "cells": [
    {
      "cell_type": "markdown",
      "metadata": {
        "id": "view-in-github",
        "colab_type": "text"
      },
      "source": [
        "<a href=\"https://colab.research.google.com/github/UrmilaAirsang/PythonProgramming/blob/main/01_SimplePythonPrograms.ipynb\" target=\"_parent\"><img src=\"https://colab.research.google.com/assets/colab-badge.svg\" alt=\"Open In Colab\"/></a>"
      ]
    },
    {
      "cell_type": "markdown",
      "metadata": {
        "id": "T2kStLz9XwpY"
      },
      "source": [
        "# Find number of letter occurances in the sentense "
      ]
    },
    {
      "cell_type": "code",
      "metadata": {
        "colab": {
          "base_uri": "https://localhost:8080/"
        },
        "id": "EYt7kpUWXjTu",
        "outputId": "1b9d5e03-6413-44a4-854b-d3362896dd47"
      },
      "source": [
        "a = \"hello world\"\n",
        "print(a.count(\"e\"))# count of \"e\"\n",
        "print(a.index(\"e\"))#index of \"e\""
      ],
      "execution_count": 4,
      "outputs": [
        {
          "output_type": "stream",
          "text": [
            "1\n",
            "1\n"
          ],
          "name": "stdout"
        }
      ]
    },
    {
      "cell_type": "markdown",
      "metadata": {
        "id": "GlifJ8bcZmyU"
      },
      "source": [
        "# Find the number in the list which is closest to the given value"
      ]
    },
    {
      "cell_type": "code",
      "metadata": {
        "colab": {
          "base_uri": "https://localhost:8080/"
        },
        "id": "GIqle41sX9we",
        "outputId": "f21a02a9-6d87-4aa3-ddce-cce2d7e3eedf"
      },
      "source": [
        "import numpy as np\n",
        "my_list=[1,2,3,2,3,4,5,4,3,6,5,4,5,6,7,6,7,8,9]\n",
        "val=4.4\n",
        "####using numpy array############\n",
        "print((np.argmin(abs(np.array(my_list)-val))))#np.argmin gives index for numpy array"
      ],
      "execution_count": 5,
      "outputs": [
        {
          "output_type": "stream",
          "text": [
            "5\n"
          ],
          "name": "stdout"
        }
      ]
    },
    {
      "cell_type": "markdown",
      "metadata": {
        "id": "n8Unf19FcEnS"
      },
      "source": [
        "#What is a lambda function?\n",
        "\n",
        "A lambda function is an anonymous function. This function can have any number of parameters but, can have just one statement. For Example:"
      ]
    },
    {
      "cell_type": "code",
      "metadata": {
        "colab": {
          "base_uri": "https://localhost:8080/"
        },
        "id": "K5FnO_AdZ8Sr",
        "outputId": "10d52f89-0668-40c2-e443-9c3d83e99677"
      },
      "source": [
        "a = lambda x, y : x*y\n",
        "print(a(7, 19))"
      ],
      "execution_count": 6,
      "outputs": [
        {
          "output_type": "stream",
          "text": [
            "133\n"
          ],
          "name": "stdout"
        }
      ]
    },
    {
      "cell_type": "markdown",
      "metadata": {
        "id": "Xlm4h0n6cgcv"
      },
      "source": [
        "#What is the difference between xrange and range function?\n",
        "\n",
        "range() – This returns a list of numbers created using range() function.\n",
        "xrange() – This function returns the generator object that can be used to display numbers only by looping. light function came in use in python3."
      ]
    },
    {
      "cell_type": "markdown",
      "metadata": {
        "id": "myZdqSuIc5X7"
      },
      "source": [
        "#What is difference between / and // in Python?\n",
        "\n",
        "// represents floor division whereas / represents precised division."
      ]
    },
    {
      "cell_type": "code",
      "metadata": {
        "colab": {
          "base_uri": "https://localhost:8080/"
        },
        "id": "FrskbSlAcH2g",
        "outputId": "29fa85cd-aedb-4a50-dd50-f88935d773e7"
      },
      "source": [
        "print(9//2) # = 4\n",
        "print(9/2) # = 4.5"
      ],
      "execution_count": 8,
      "outputs": [
        {
          "output_type": "stream",
          "text": [
            "4\n",
            "4.5\n"
          ],
          "name": "stdout"
        }
      ]
    },
    {
      "cell_type": "markdown",
      "metadata": {
        "id": "YQX1H10fddp0"
      },
      "source": [
        "#Removing duplicates or finding unique numbers"
      ]
    },
    {
      "cell_type": "code",
      "metadata": {
        "colab": {
          "base_uri": "https://localhost:8080/"
        },
        "id": "dd0ko96mc_6O",
        "outputId": "d4f832a1-71d9-44c3-ee0c-795454a430f1"
      },
      "source": [
        "a = [1,2,2,2,2,3]\n",
        "list(set(a))# use of set to get unquie numbers"
      ],
      "execution_count": 10,
      "outputs": [
        {
          "output_type": "execute_result",
          "data": {
            "text/plain": [
              "[1, 2, 3]"
            ]
          },
          "metadata": {
            "tags": []
          },
          "execution_count": 10
        }
      ]
    },
    {
      "cell_type": "markdown",
      "metadata": {
        "id": "EdSmxjXPe0NU"
      },
      "source": [
        "# list Vs tuple Vs dictionary\n",
        "List and Tuple objects are sequences. \n",
        "A dictionary is a hash table of key-value pairs. \n",
        "\n",
        "List and tuple is an ordered collection of items. \n",
        "Dictionary is unordered collection.\n",
        "\n",
        "List and dictionary objects are mutable i.e. it is possible to add new item or delete and item from it. \n",
        "\n",
        "Tuple is an immutable object. Addition or deletion operations are not possible on tuple object."
      ]
    },
    {
      "cell_type": "code",
      "metadata": {
        "id": "mTwD0Gmldwnp"
      },
      "source": [
        "L1=[12, \"Ravi\", \"B.Com FY\", 78.50] #list\n",
        "T1=(12, \"Ravi\", \"B.Com FY\", 78.50)#tuple\n",
        "D1={\"Rollno\":12, \"class\":\"B.com FY\", \"precentage\":78.50}#dictionary"
      ],
      "execution_count": null,
      "outputs": []
    },
    {
      "cell_type": "markdown",
      "metadata": {
        "id": "feRr-CyTjeSl"
      },
      "source": [
        "#Palindrome"
      ]
    },
    {
      "cell_type": "code",
      "metadata": {
        "colab": {
          "base_uri": "https://localhost:8080/"
        },
        "id": "zxdS2CBJjhsC",
        "outputId": "0c090188-d4a2-4517-c57b-a5ab237a67ef"
      },
      "source": [
        "\n",
        "def isPalindrome(s):\n",
        "    return s == s[::-1]#Slice the String ::-1 means start index, end index, -1 means direction is reverse\n",
        "# Driver code\n",
        "s = \"gadag\"\n",
        "ans = isPalindrome(s)\n",
        " \n",
        "if ans:\n",
        "    print(\"Yes\")\n",
        "else:\n",
        "    print(\"No\")\n",
        "\n",
        "#####################Slicing example#################\n",
        "s='12345'\n",
        "s1 = s[4:0:-1]#Slice the String\n",
        "print(s1)\n",
        "s2 = s[::-1]"
      ],
      "execution_count": 22,
      "outputs": [
        {
          "output_type": "stream",
          "text": [
            "Yes\n",
            "5432\n"
          ],
          "name": "stdout"
        }
      ]
    },
    {
      "cell_type": "code",
      "metadata": {
        "colab": {
          "base_uri": "https://localhost:8080/"
        },
        "id": "oJ_WBwJUjlgb",
        "outputId": "0b2e6d08-ce4f-4ba5-92bc-eb2c5c5671f8"
      },
      "source": [
        "# function to check string is palindrome or not\n",
        "#Use of reversed\n",
        "def isPalindrome(s):\n",
        "     \n",
        "    # Using predefined function to \n",
        "    # reverse to string print(s)\n",
        "    rev = ''.join(reversed(s))\n",
        " \n",
        "    # Checking if both string are \n",
        "    # equal or not\n",
        "    if (s == rev):\n",
        "        return True\n",
        "    return False\n",
        " \n",
        "# main function\n",
        "s = \"gadag\"\n",
        "ans = isPalindrome(s)\n",
        " \n",
        "if (ans):\n",
        "    print(\"Yes\")\n",
        "else:\n",
        "    print(\"No\")"
      ],
      "execution_count": 12,
      "outputs": [
        {
          "output_type": "stream",
          "text": [
            "Yes\n"
          ],
          "name": "stdout"
        }
      ]
    },
    {
      "cell_type": "code",
      "metadata": {
        "colab": {
          "base_uri": "https://localhost:8080/"
        },
        "id": "TcJXEvT0j1ew",
        "outputId": "3650983c-6d22-479e-cc72-894460814b75"
      },
      "source": [
        "# Python program to check\n",
        "# if a string is palindrome \n",
        "# or not\n",
        " \n",
        "x = \"hello\"\n",
        " \n",
        "w = \"\"\n",
        "for i in x:\n",
        "    w = i + w # string concatination\n",
        "    print(w)\n",
        " \n",
        "if (x == w):\n",
        "    print(\"Yes\")\n",
        "else:\n",
        "    print(\"No\")"
      ],
      "execution_count": 13,
      "outputs": [
        {
          "output_type": "stream",
          "text": [
            "h\n",
            "eh\n",
            "leh\n",
            "lleh\n",
            "olleh\n",
            "No\n"
          ],
          "name": "stdout"
        }
      ]
    },
    {
      "cell_type": "code",
      "metadata": {
        "colab": {
          "base_uri": "https://localhost:8080/"
        },
        "id": "Aj6ITnUbkZz_",
        "outputId": "5c486e4a-38ec-4034-84ac-d829afde4895"
      },
      "source": [
        ""
      ],
      "execution_count": 21,
      "outputs": [
        {
          "output_type": "stream",
          "text": [
            "5432\n"
          ],
          "name": "stdout"
        }
      ]
    },
    {
      "cell_type": "code",
      "metadata": {
        "id": "muPJajDik9Db"
      },
      "source": [
        ""
      ],
      "execution_count": null,
      "outputs": []
    }
  ]
}